{
 "cells": [
  {
   "cell_type": "markdown",
   "metadata": {},
   "source": [
    "Before you turn this problem in, make sure everything runs as expected. First, **restart the kernel** (in the menubar, select Kernel$\\rightarrow$Restart) and then **run all cells** (in the menubar, select Cell$\\rightarrow$Run All).\n",
    "\n",
    "Make sure you fill in any place that says `YOUR CODE HERE` or \"YOUR ANSWER HERE\", as well as your name and collaborators below:"
   ]
  },
  {
   "cell_type": "code",
   "execution_count": null,
   "metadata": {},
   "outputs": [],
   "source": [
    "NAME = \"\"\n",
    "COLLABORATORS = \"\""
   ]
  },
  {
   "cell_type": "markdown",
   "metadata": {},
   "source": [
    "---"
   ]
  },
  {
   "cell_type": "markdown",
   "metadata": {
    "deletable": false,
    "editable": false,
    "nbgrader": {
     "cell_type": "markdown",
     "checksum": "8c5e23e382e4e955f99b72e1332183c4",
     "grade": false,
     "grade_id": "cell-0cc4f75adf11831d",
     "locked": true,
     "schema_version": 3,
     "solution": false,
     "task": false
    }
   },
   "source": [
    "## Lab 2: Nesting tree characteristics of the Northern Spotted Owl\n",
    "### An analysis using descriptive statistics, Anova, and Tukey tests.\n",
    "\n",
    "The Northern Spotted owl is under extreme pressure in British Columbia due to forestry activities and competition from the Barred owl, which only recently migrated to the area. Only [six wild owls](https://www.cbc.ca/news/canada/british-columbia/spotted-owl-protections-bc-new-chick-breeding-program-1.5131548) have been confirmed to remain in BC, located exclusively within old growth forest in the lower Fraser Basin. This is thought to represent a decline of around 99\\% from their precolonial numbers.\n",
    "The BC government is attempting to protect remaining owl habitat and increase owl numbers through a [captive breeding and release program](https://www2.gov.bc.ca/gov/content/environment/plants-animals-ecosystems/species-ecosystems-at-risk/implementation/conservation-projects-partnerships/northern-spotted-owl).\n",
    "\n",
    "The image below shows Northern spotted owls (2 Adults and 3 Juveniles) in two different types of nests. The left panel is a \"Top Cavity\" nest, while the right panel is a \"Platform\" nest.\n",
    "![Spotted Owl with juveniles in a top cavity nest (Credit Jared Hobbs)](nest.png)\n",
    "\n",
    "\n",
    "The number of owls in Washington, Oregon, and California is much higher than in BC. Here, the owls are considered threatened (as the population is low and decreasing), but not endangered. To identify potential Northern Spotted Owl habitat for protection from harvesting or Barred owl colonization, it is necessary to characterize the features of ideal nesting trees for Northern Spotted Owls.\n",
    "\n",
    "### Explanation of the data:\n",
    "Below a dataset is presented that includes characteristics of nearly 2000 Spotted Owl nesting trees in Oregon, Washington, and California. This data contains values for: \n",
    "1. **Site**: The location where the nest was observed. \"Olympic\" -- Olympic Peninsula, \"Interior\" -- within the rain shadow of the Cascade mountain range, \"CoastN\" -- Nothern coast of Wa. and Northern Or., and \"Coast S\" -- Southern coast of Southern Or. and Northern Ca. \n",
    "\n",
    "2. **Nest**: The type of nest. \"TopCavity\" -- a nest within the hollowed out cavity at the top of a broken tree, \"SideCavity\" -- a nest within a cavity on the side of a tree, and \"Platform\" -- a nest perched on the limbs of a tree.\n",
    "\n",
    "3. **DBH**: The diameter at breast height of the nesting tree in *centimeters*.\n",
    "\n",
    "4. **Stage**: The life stage of a tree on a scale between 1 and 7. Values of 1-2 represent living trees while 3-7 represent dead trees in progressive decay. The image below indicates the meaning of \"Stage\". For Douglas Fir and Western Red Cedar trees, stage 2 often represents trees of order of 500-1000 years old.\n",
    "\n",
    "5. **Ht**: The height of the nesting tree in *meters*.\n",
    "\n",
    "![Decay stages of trees (Credit Plos ONE)](treedecay.png)\n",
    "\n",
    "\n",
    "### In this lab, you will apply descriptive statistics, ANOVA, and the Tukey post-hoc test to this dataset to determine the types of trees Northern Spotted Owls prefer for nesting."
   ]
  },
  {
   "cell_type": "markdown",
   "metadata": {
    "deletable": false,
    "editable": false,
    "nbgrader": {
     "cell_type": "markdown",
     "checksum": "507a1e6dd30e2a5ffa75ed712d8ef0e2",
     "grade": false,
     "grade_id": "cell-15c95dbca7582bf3",
     "locked": true,
     "points": 0,
     "schema_version": 3,
     "solution": false,
     "task": true
    }
   },
   "source": [
    "# Questions:\n",
    "\n",
    "## 1. First we will load the data and conduct descriptive statistics to determine which species of trees owls prefer to nest in. \n",
    "\n",
    "### (a) Load the dataset `nestingTrees.csv` into a dataframe called `df`, then investigate the data using `head` and `tail`. "
   ]
  },
  {
   "cell_type": "code",
   "execution_count": null,
   "metadata": {},
   "outputs": [],
   "source": [
    "df = read.csv('nestingTrees.csv')\n",
    "head(df)"
   ]
  },
  {
   "cell_type": "code",
   "execution_count": null,
   "metadata": {},
   "outputs": [],
   "source": [
    "head(df)"
   ]
  },
  {
   "cell_type": "markdown",
   "metadata": {
    "deletable": false,
    "editable": false,
    "nbgrader": {
     "cell_type": "markdown",
     "checksum": "0116cf02250fc126f5f1711611ab93e4",
     "grade": false,
     "grade_id": "cell-a2468fead7d8212d",
     "locked": true,
     "schema_version": 3,
     "solution": false,
     "task": false
    }
   },
   "source": [
    "### (b) What tree species are contained in the dataset? Name these to a variable called `species`\n",
    "You can find the unique tree species using the function `unique` after selecting the `Tree` column from `df`."
   ]
  },
  {
   "cell_type": "code",
   "execution_count": null,
   "metadata": {
    "deletable": false,
    "nbgrader": {
     "cell_type": "code",
     "checksum": "e0c99b745d457fa38744398e30d9e6ea",
     "grade": false,
     "grade_id": "cell-e5f7e0d9b5df4ba2",
     "locked": false,
     "schema_version": 3,
     "solution": true,
     "task": false
    }
   },
   "outputs": [],
   "source": [
    "# your code here\n",
    "fail() # No Answer - remove if you provide an answer"
   ]
  },
  {
   "cell_type": "code",
   "execution_count": null,
   "metadata": {},
   "outputs": [],
   "source": [
    "species"
   ]
  },
  {
   "cell_type": "markdown",
   "metadata": {
    "deletable": false,
    "editable": false,
    "nbgrader": {
     "cell_type": "markdown",
     "checksum": "ebfeb6a0ba5b80efaf4007319c5be4d3",
     "grade": false,
     "grade_id": "cell-def4d87b73180146",
     "locked": true,
     "schema_version": 3,
     "solution": false,
     "task": false
    }
   },
   "source": [
    "### (c) What is the most common tree species for owls to nest in? Assign this species to a variable called `commonTree`. What percentage (between 0 and 100) of all nests are in this tree species? Assign this percentage to a variable called `percentTree`.\n",
    "You can apply `table(x)` to count unique occurrences in a vector `x`. You can drop the `name` attribute of a table `T` with `unname(T)`."
   ]
  },
  {
   "cell_type": "code",
   "execution_count": null,
   "metadata": {
    "deletable": false,
    "nbgrader": {
     "cell_type": "code",
     "checksum": "ff4be3f53825db6418f4879378b671b3",
     "grade": false,
     "grade_id": "cell-10abc1ce373b1e4c",
     "locked": false,
     "schema_version": 3,
     "solution": true,
     "task": false
    }
   },
   "outputs": [],
   "source": [
    "# your code here\n",
    "fail() # No Answer - remove if you provide an answer"
   ]
  },
  {
   "cell_type": "markdown",
   "metadata": {
    "deletable": false,
    "editable": false,
    "nbgrader": {
     "cell_type": "markdown",
     "checksum": "d668b17a2bfa6c10168941a3ef6b45b8",
     "grade": false,
     "grade_id": "cell-715aef1ee94078b7",
     "locked": true,
     "schema_version": 3,
     "solution": false,
     "task": false
    }
   },
   "source": [
    "### (c) Now select out the rows within `df` that correspond to the most common tree species for owl nesting and include these in a new dataframe `df1`. Using `df1`, calculate the mean diameter at breast height (`DBH`) and its standard deviation. Assign these values respectively to `meanDBH` and `sdDBH`. Similarly obtain the mean tree height (`Ht`) and its standard deviation and assign these values to `meanHt` and `sdHt`. \n",
    "Hint: you can select a subset of a dataframe `df` where a vector `mask` contains `TRUE` using `df1 = subset(df,mask)`. The functions for the mean and standard deviation are `mean` and `sd`."
   ]
  },
  {
   "cell_type": "code",
   "execution_count": null,
   "metadata": {
    "deletable": false,
    "nbgrader": {
     "cell_type": "code",
     "checksum": "f58f779ba3804bf1fc2ea29fe6dd21b3",
     "grade": false,
     "grade_id": "cell-5a965573670c75c8",
     "locked": false,
     "schema_version": 3,
     "solution": true,
     "task": false
    }
   },
   "outputs": [],
   "source": [
    "# your code here\n",
    "fail() # No Answer - remove if you provide an answer"
   ]
  },
  {
   "cell_type": "markdown",
   "metadata": {},
   "source": [
    "### (d) Calculate the coefficient of variation for both tree height and diameter for this most common tree species. Assign these to variables cvHt and cvDBH respectively. Are tree diameters or heights more variable among the samped nesting trees? Set `moreVary = 0` if diameters are more variable and `moreVary=1` if heights are more variable."
   ]
  },
  {
   "cell_type": "code",
   "execution_count": null,
   "metadata": {},
   "outputs": [],
   "source": [
    "cvDBH = meanDBH/sdDBH\n",
    "cvHt = meanHt/sdHt"
   ]
  },
  {
   "cell_type": "code",
   "execution_count": null,
   "metadata": {},
   "outputs": [],
   "source": [
    "print(cvHt)\n",
    "print(cvDBH)"
   ]
  },
  {
   "cell_type": "code",
   "execution_count": null,
   "metadata": {},
   "outputs": [],
   "source": [
    "moreVary=0"
   ]
  },
  {
   "cell_type": "markdown",
   "metadata": {},
   "source": [
    "### (e) What is the most common stage of decay (`Stage`, indicated in the figure above) among trees which owls build nests in? Assign this answer (as an integer between 1 and 7) to the variable `commonStage`. \n",
    "You can again use `table` to count occurrences."
   ]
  },
  {
   "cell_type": "code",
   "execution_count": null,
   "metadata": {},
   "outputs": [],
   "source": [
    " (x = table(df$Stage) )\n",
    "commonStage = 2"
   ]
  },
  {
   "cell_type": "code",
   "execution_count": null,
   "metadata": {},
   "outputs": [],
   "source": [
    "unname(x[2]/sum(x)*100)"
   ]
  },
  {
   "cell_type": "markdown",
   "metadata": {},
   "source": [
    "### (f) Finally, what is the most common nest type? Options are `\"Platform\"`, `\"SideCavity\"`, and `\"TopCavity\"`. Assign the most common nest type to a variable called `commonNest`.  What percentage of all nests in the dataset are this nest type? Name this to a variable called `percentNest`."
   ]
  },
  {
   "cell_type": "code",
   "execution_count": null,
   "metadata": {},
   "outputs": [],
   "source": [
    "( x = table(df$Nest) )"
   ]
  },
  {
   "cell_type": "code",
   "execution_count": null,
   "metadata": {},
   "outputs": [],
   "source": [
    "( percentNest = unname((x[3])/sum(x)*100) )"
   ]
  },
  {
   "cell_type": "markdown",
   "metadata": {
    "deletable": false,
    "editable": false,
    "nbgrader": {
     "cell_type": "markdown",
     "checksum": "e1d875114e510662bf7cd7dd5b302e14",
     "grade": false,
     "grade_id": "cell-202deac94438346f",
     "locked": true,
     "schema_version": 3,
     "solution": false,
     "task": false
    }
   },
   "source": [
    "### (g) Summarize the results of your descriptive statistics. What species of trees do Northern Spotted Owls prefer to nest in? What life stage are their preferred trees in? What types of nests do owls most commonly build in these trees?"
   ]
  },
  {
   "cell_type": "markdown",
   "metadata": {
    "deletable": false,
    "nbgrader": {
     "cell_type": "markdown",
     "checksum": "e269d6b0d63e55f6ca87a9b6d70192fa",
     "grade": true,
     "grade_id": "cell-60e1eb400a09cc1a",
     "locked": false,
     "points": 0,
     "schema_version": 3,
     "solution": true,
     "task": false
    }
   },
   "source": [
    "YOUR ANSWER HERE"
   ]
  },
  {
   "cell_type": "markdown",
   "metadata": {
    "deletable": false,
    "editable": false,
    "nbgrader": {
     "cell_type": "markdown",
     "checksum": "f1fa825f2ff768c6b646b6fb90832386",
     "grade": false,
     "grade_id": "cell-738959bea70071d1",
     "locked": true,
     "points": 0,
     "schema_version": 3,
     "solution": false,
     "task": true
    }
   },
   "source": [
    "## 2. Now we will investigate whether the diameter and height of nesting trees affects the types of nests owls make in them using analysis of variance (ANOVA).\n",
    "\n",
    "### a) For the most common nesting tree species (`Tree`) and life stage (`Stage`), form a boxplot showing the tree diameter on the y axis versus the nest type on the x axis. Label your axes with units as appropriate. Add a plot title.\n",
    "You can extract the appropriate data from `df` with the `subset` function using `mask = (df$Stage==commonStage) & (df$Tree==commonTree)`.\n",
    "You can use `boxplot(y ~ x, data=yourDataFrame, main='a title for your plot', xlab='your x axis label', ylab='your y axis label', col 'lightblue')` with appropriate substitutions."
   ]
  },
  {
   "cell_type": "code",
   "execution_count": null,
   "metadata": {
    "deletable": false,
    "nbgrader": {
     "cell_type": "code",
     "checksum": "2691bb65ebbe27ef0bbe49faf7fb7392",
     "grade": true,
     "grade_id": "cell-39458be2fed50718",
     "locked": false,
     "points": 0,
     "schema_version": 3,
     "solution": true,
     "task": false
    }
   },
   "outputs": [],
   "source": [
    "# your code here\n",
    "fail() # No Answer - remove if you provide an answer"
   ]
  },
  {
   "cell_type": "markdown",
   "metadata": {
    "deletable": false,
    "editable": false,
    "nbgrader": {
     "cell_type": "markdown",
     "checksum": "457716e961808ef2ff4e8859f1fb4b94",
     "grade": false,
     "grade_id": "cell-ad6ecb34da0a140a",
     "locked": true,
     "schema_version": 3,
     "solution": false,
     "task": false
    }
   },
   "source": [
    "### b) Now we will investigate whether the mean diameters of nesting trees differs according to Nest Type using ANOVA. Does the data indicated in your boxplot meet the requirements of ANOVA? Explain this, then write the null and alternate hypotheses for Anova, being careful to define all variables.\n",
    "You can render equations in markdown by surrounding them by either single or double dollar signs, as in `$ F = m a $`. Double dollar signs give equations their own line. Single dollar signs make them inline with text. You can write a Greek $\\mu$ (\"mu\") with a subscript (i.e., $\\mu_1$) as `\\mu_1`. This method of writing math is called [MathJax](https://math.meta.stackexchange.com/questions/5020/mathjax-basic-tutorial-and-quick-reference). Use MathJax to render your Null and Alternate hypotheses.\n"
   ]
  },
  {
   "cell_type": "markdown",
   "metadata": {
    "deletable": false,
    "nbgrader": {
     "cell_type": "markdown",
     "checksum": "cb36bb2e89e8e80f42337a9b7c730acb",
     "grade": true,
     "grade_id": "cell-22da802c6c7fb910",
     "locked": false,
     "points": 0,
     "schema_version": 3,
     "solution": true,
     "task": false
    }
   },
   "source": [
    "YOUR ANSWER HERE"
   ]
  },
  {
   "cell_type": "markdown",
   "metadata": {
    "deletable": false,
    "editable": false,
    "nbgrader": {
     "cell_type": "markdown",
     "checksum": "18d12da008af2c97f4a619c2f3450372",
     "grade": false,
     "grade_id": "cell-0f1b59d1079d5cb0",
     "locked": true,
     "points": 0,
     "schema_version": 3,
     "solution": false,
     "task": true
    }
   },
   "source": [
    "### c) Conduct ANOVA on the data in your boxplot to determine if you can reject the null hypothesis. Conduct the calculation and print the summary.\n",
    "The function for ANOVA is `aov`. It operates as `A = aov(y~x,data=dataset)` with approprate subsitutions. As written here the ANOVA results are stored in `A`. You can summarize the results with `summary(A)`."
   ]
  },
  {
   "cell_type": "code",
   "execution_count": null,
   "metadata": {
    "deletable": false,
    "nbgrader": {
     "cell_type": "code",
     "checksum": "8f28302419b6f2fc088e8c53b02c6490",
     "grade": true,
     "grade_id": "cell-bf03b03bc4968193",
     "locked": false,
     "points": 0,
     "schema_version": 3,
     "solution": true,
     "task": false
    }
   },
   "outputs": [],
   "source": [
    "# your code here\n",
    "fail() # No Answer - remove if you provide an answer"
   ]
  },
  {
   "cell_type": "markdown",
   "metadata": {
    "deletable": false,
    "editable": false,
    "nbgrader": {
     "cell_type": "markdown",
     "checksum": "c1914ddefd20a1d66aff32d18a571a43",
     "grade": false,
     "grade_id": "cell-b233675de305aa39",
     "locked": true,
     "points": 0,
     "schema_version": 3,
     "solution": false,
     "task": true
    }
   },
   "source": [
    "### d) Summarize the results of the ANOVA in several sentences. Do you accept or reject the null hypothesis at $\\alpha=0.05$? What numerical values in the ANOVA summary lead you to this choice? What does this imply for the control of tree diameters on the nest types owls construct?"
   ]
  },
  {
   "cell_type": "markdown",
   "metadata": {
    "deletable": false,
    "nbgrader": {
     "cell_type": "markdown",
     "checksum": "f9cc3d0531fbc618be7a130bebd01c33",
     "grade": true,
     "grade_id": "cell-f4d5b50d00b547b2",
     "locked": false,
     "points": 0,
     "schema_version": 3,
     "solution": true,
     "task": false
    }
   },
   "source": [
    "YOUR ANSWER HERE"
   ]
  },
  {
   "cell_type": "markdown",
   "metadata": {
    "deletable": false,
    "editable": false,
    "nbgrader": {
     "cell_type": "markdown",
     "checksum": "a6d4565d86bf2da449e84e6d5231efe7",
     "grade": false,
     "grade_id": "cell-473e9c604edd6745",
     "locked": true,
     "points": 0,
     "schema_version": 3,
     "solution": false,
     "task": true
    }
   },
   "source": [
    "### e) Conduct a post-hoc Tukey test on the ANOVA output. Obtain the Tukey results in a code cell, then interpret and summarize these results in a markdown cell, making specific reference to the relevant numerical values in the Tukey output.\n",
    "Use the `TukeyHSD` function on the earlier ANOVA output."
   ]
  },
  {
   "cell_type": "code",
   "execution_count": null,
   "metadata": {
    "deletable": false,
    "nbgrader": {
     "cell_type": "code",
     "checksum": "d0f04f012b60a2f2a6b05e817bd57568",
     "grade": true,
     "grade_id": "cell-dffcfadf1d937400",
     "locked": false,
     "points": 0,
     "schema_version": 3,
     "solution": true,
     "task": false
    }
   },
   "outputs": [],
   "source": [
    "# your code here\n",
    "fail() # No Answer - remove if you provide an answer"
   ]
  },
  {
   "cell_type": "markdown",
   "metadata": {
    "deletable": false,
    "nbgrader": {
     "cell_type": "markdown",
     "checksum": "b417e21d3c891faee4f881ffc9edabde",
     "grade": true,
     "grade_id": "cell-08ebc0681aece945",
     "locked": false,
     "points": 0,
     "schema_version": 3,
     "solution": true,
     "task": false
    }
   },
   "source": [
    "YOUR ANSWER HERE"
   ]
  },
  {
   "cell_type": "markdown",
   "metadata": {
    "deletable": false,
    "editable": false,
    "nbgrader": {
     "cell_type": "markdown",
     "checksum": "bc6f40a78ca9d07d308ea0f7d1d54680",
     "grade": false,
     "grade_id": "cell-21215a7af6bebc90",
     "locked": true,
     "points": 0,
     "schema_version": 3,
     "solution": false,
     "task": true
    }
   },
   "source": [
    "### f) Perform ANOVA to determine if nest type (`Nest`) is related to tree height (`Ht`) for the most common nesting tree species and life stage (the `df2` dataframe). Perform the calculation in one code cell and summarize the results in another markdown cell, making reference to the appropriate numerical values. Use $\\alpha=0.05$."
   ]
  },
  {
   "cell_type": "code",
   "execution_count": null,
   "metadata": {
    "deletable": false,
    "nbgrader": {
     "cell_type": "code",
     "checksum": "44b7725abb1868da8a7155d46fa008e9",
     "grade": true,
     "grade_id": "cell-08e2995e94277847",
     "locked": false,
     "points": 0,
     "schema_version": 3,
     "solution": true,
     "task": false
    }
   },
   "outputs": [],
   "source": [
    "# your code here\n",
    "fail() # No Answer - remove if you provide an answer"
   ]
  },
  {
   "cell_type": "markdown",
   "metadata": {
    "deletable": false,
    "nbgrader": {
     "cell_type": "markdown",
     "checksum": "20c81984824891e3f96bcda74dd63c07",
     "grade": true,
     "grade_id": "cell-c4eee1e9e9be1d30",
     "locked": false,
     "points": 0,
     "schema_version": 3,
     "solution": true,
     "task": false
    }
   },
   "source": [
    "YOUR ANSWER HERE"
   ]
  },
  {
   "cell_type": "markdown",
   "metadata": {
    "deletable": false,
    "editable": false,
    "nbgrader": {
     "cell_type": "markdown",
     "checksum": "42f3f358a85aa9d1efd53b9d76082249",
     "grade": false,
     "grade_id": "cell-2964e6b4ac9b4e9a",
     "locked": true,
     "points": 0,
     "schema_version": 3,
     "solution": false,
     "task": true
    }
   },
   "source": [
    "### g) In 2-3 sentences, summarize your findings with regard to (i) tree characteristics Northern Spotted owls select for nesting, (ii) the types of nests these owls most commonly build in these trees, and (iii) how ANOVA informs the control of tree height and diameter on the types of nests owls construct."
   ]
  },
  {
   "cell_type": "markdown",
   "metadata": {
    "deletable": false,
    "nbgrader": {
     "cell_type": "markdown",
     "checksum": "55185c94e3221a31271ab3a029d396ca",
     "grade": true,
     "grade_id": "cell-472da30e32f2d72e",
     "locked": false,
     "points": 0,
     "schema_version": 3,
     "solution": true,
     "task": false
    }
   },
   "source": [
    "YOUR ANSWER HERE"
   ]
  },
  {
   "cell_type": "code",
   "execution_count": null,
   "metadata": {},
   "outputs": [],
   "source": []
  }
 ],
 "metadata": {
  "kernelspec": {
   "display_name": "R",
   "language": "R",
   "name": "ir"
  },
  "language_info": {
   "codemirror_mode": "r",
   "file_extension": ".r",
   "mimetype": "text/x-r-source",
   "name": "R",
   "pygments_lexer": "r",
   "version": "4.0.5"
  }
 },
 "nbformat": 4,
 "nbformat_minor": 4
}
