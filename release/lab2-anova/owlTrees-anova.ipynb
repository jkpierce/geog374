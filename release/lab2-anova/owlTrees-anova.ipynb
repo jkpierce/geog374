{
 "cells": [
  {
   "cell_type": "markdown",
   "metadata": {},
   "source": [
    "Before you turn this problem in, make sure everything runs as expected. First, **restart the kernel** (in the menubar, select Kernel$\\rightarrow$Restart) and then **run all cells** (in the menubar, select Cell$\\rightarrow$Run All).\n",
    "\n",
    "Make sure you fill in any place that says `YOUR CODE HERE` or \"YOUR ANSWER HERE\", as well as your name and collaborators below:"
   ]
  },
  {
   "cell_type": "code",
   "execution_count": null,
   "metadata": {},
   "outputs": [],
   "source": [
    "NAME = \"\"\n",
    "COLLABORATORS = \"\""
   ]
  },
  {
   "cell_type": "markdown",
   "metadata": {},
   "source": [
    "---"
   ]
  },
  {
   "cell_type": "code",
   "execution_count": null,
   "metadata": {
    "deletable": false,
    "editable": false,
    "nbgrader": {
     "cell_type": "code",
     "checksum": "d4a79960c68adc60b51d969a6c17b1a1",
     "grade": false,
     "grade_id": "cell-aad671d0a2af9ef6",
     "locked": true,
     "schema_version": 3,
     "solution": false,
     "task": false
    }
   },
   "outputs": [],
   "source": [
    "library(testthat) # testing\n",
    "library(digest) # hashing"
   ]
  },
  {
   "cell_type": "markdown",
   "metadata": {
    "deletable": false,
    "editable": false,
    "nbgrader": {
     "cell_type": "markdown",
     "checksum": "3047916deb2d96e25c56643e820e8889",
     "grade": false,
     "grade_id": "cell-0cc4f75adf11831d",
     "locked": true,
     "schema_version": 3,
     "solution": false,
     "task": false
    }
   },
   "source": [
    "# Nesting tree charactetristics of the Northern Spotted Owl\n",
    "\n",
    "The Northern Spotted owl is under extreme pressure in British Columbia due to forestry activities and competition from the Barred owl, which only recently migrated to the area. Only [six wild owls](https://www.cbc.ca/news/canada/british-columbia/spotted-owl-protections-bc-new-chick-breeding-program-1.5131548) have been confirmed to remain in BC, located exclusively within old growth forest in the lower Fraser Basin. This is thought to represent a decline of around 99\\% from their precolonial numbers.\n",
    "The BC government is attempting to protect remaining owl habitat and increase owl numbers through a [captive breeding and release program](https://www2.gov.bc.ca/gov/content/environment/plants-animals-ecosystems/species-ecosystems-at-risk/implementation/conservation-projects-partnerships/northern-spotted-owl).\n",
    "\n",
    "The image below shows two different spotted owl nests. The left panel is a \"Top Cavity\" nest, while the right panel is a \"Platform\" nest.\n",
    "![Spotted Owl with juveniles in a top cavity nest (Credit Jared Hobbs)](nest.png)\n",
    "\n",
    "\n",
    "The number of owls in Washington and Oregon is much higher, where the owls are considered threatened (as the population is low and decreasing), but not endangered. To identify potential owl habitat for protection from harvesting, it is necessary to characterize owl habitat.\n",
    "\n",
    "## Explanation of the data:\n",
    "Below a dataset is presented that includes characteristics of nearly 2000 Spotted Owl nesting trees in Oregon and Washington. This data contains values for: \n",
    "1. **Site**: The location where the nest was observed. \"Olympic\" -- Olympic Peninsula, \"Interior\" -- within the rain shadow of the Cascade mountain range, \"CoastN\" -- Nothern coast of Wa. and Northern Or., and \"Coast S\" -- Southern coast of Southern Or. and Northern Ca. \n",
    "\n",
    "2. **Nest**: The type of nest. \"TopCavity\" -- a nest within the hollowed out cavity at the top of a broken tree, \"SideCavity\" -- a nest within a cavity on the side of a tree, and \"Platform\" -- a nest perched on the limbs of a tree.\n",
    "\n",
    "3. **DBH**: The diameter at breast height of the nesting tree in *centimeters*\n",
    "\n",
    "4. **Stage**: The life stage of a tree on a scale between 1 and 7. Values of 1 and 2 represent living trees respectively while 3-7 represent dead trees in progressive decay. The image below indicates the meaning of \"Stage\"\n",
    "\n",
    "5. **Ht**: The height of the nesting tree in *meters*\n",
    "\n",
    "![Decay stages of trees (Credit Plos ONE)](treedecay.png)\n",
    "\n",
    "\n",
    "### In this lab, you will apply descriptive statistics, ANOVA, and the Tukey post-hoc test to this dataset to determine the types of trees Northern Spotted Owls prefer for nesting."
   ]
  },
  {
   "cell_type": "markdown",
   "metadata": {
    "deletable": false,
    "editable": false,
    "nbgrader": {
     "cell_type": "markdown",
     "checksum": "507a1e6dd30e2a5ffa75ed712d8ef0e2",
     "grade": false,
     "grade_id": "cell-15c95dbca7582bf3",
     "locked": true,
     "schema_version": 3,
     "solution": false,
     "task": false
    }
   },
   "source": [
    "# Questions:\n",
    "\n",
    "## 1. First we will load the data and conduct descriptive statistics to determine which species of trees owls prefer to nest in. \n",
    "\n",
    "### (a) Load the dataset `nestingTrees.csv` into a dataframe called `df`, then investigate the data using `head` and `tail`. "
   ]
  },
  {
   "cell_type": "code",
   "execution_count": null,
   "metadata": {
    "deletable": false,
    "nbgrader": {
     "cell_type": "code",
     "checksum": "9c275038643e00bcd971f1a7b2677dbf",
     "grade": false,
     "grade_id": "cell-58d81bdf67fb39c4",
     "locked": false,
     "schema_version": 3,
     "solution": true,
     "task": false
    }
   },
   "outputs": [],
   "source": [
    "# your code here\n",
    "fail() # No Answer - remove if you provide an answer"
   ]
  },
  {
   "cell_type": "code",
   "execution_count": null,
   "metadata": {
    "deletable": false,
    "editable": false,
    "nbgrader": {
     "cell_type": "code",
     "checksum": "1c1afa3e4424e02c2d88da3e20ca1c40",
     "grade": true,
     "grade_id": "cell-2ef27921a5a33503",
     "locked": true,
     "points": 1,
     "schema_version": 3,
     "solution": false,
     "task": false
    }
   },
   "outputs": [],
   "source": [
    "test_that(\"df should contain the data from nestingTrees.csv\", {\n",
    "    expect_equal(digest(dim(df)),'bd70088e790ba15dc7ecde85b2f213f7')\n",
    "})"
   ]
  },
  {
   "cell_type": "markdown",
   "metadata": {
    "deletable": false,
    "editable": false,
    "nbgrader": {
     "cell_type": "markdown",
     "checksum": "e7eeea13e608ee8640efbdfc0f150e92",
     "grade": false,
     "grade_id": "cell-d9a2293c88c21dc0",
     "locked": true,
     "schema_version": 3,
     "solution": false,
     "task": false
    }
   },
   "source": [
    "### (b) What tree species are contained in the dataset? Name these to a variable called `species`\n",
    "You can find the unique tree species using the function `unique` after selecting the `Tree` column from `df`."
   ]
  },
  {
   "cell_type": "code",
   "execution_count": null,
   "metadata": {
    "deletable": false,
    "nbgrader": {
     "cell_type": "code",
     "checksum": "bd82d5cef2b0891502684df98656bcae",
     "grade": false,
     "grade_id": "cell-97573f5b372a7423",
     "locked": false,
     "schema_version": 3,
     "solution": true,
     "task": false
    }
   },
   "outputs": [],
   "source": [
    "# your code here\n",
    "fail() # No Answer - remove if you provide an answer"
   ]
  },
  {
   "cell_type": "code",
   "execution_count": null,
   "metadata": {
    "deletable": false,
    "editable": false,
    "nbgrader": {
     "cell_type": "code",
     "checksum": "797deada027e1807003f45bbd3711b1a",
     "grade": true,
     "grade_id": "cell-ce90e33b4d125c63",
     "locked": true,
     "points": 1,
     "schema_version": 3,
     "solution": false,
     "task": false
    }
   },
   "outputs": [],
   "source": [
    "test_that(\"All tree species should be named to a variable 'species'\", {\n",
    "    expect_equal(digest(species),'85ec3ec7c19a0654bdd8542184288d27')\n",
    "})"
   ]
  },
  {
   "cell_type": "markdown",
   "metadata": {
    "deletable": false,
    "editable": false,
    "nbgrader": {
     "cell_type": "markdown",
     "checksum": "1cbd92b4cebf125e6580f95e961cd6bc",
     "grade": false,
     "grade_id": "cell-def4d87b73180146",
     "locked": true,
     "schema_version": 3,
     "solution": false,
     "task": false
    }
   },
   "source": [
    "### (c) What is the most common tree species for owls to nest in? Assign this species to a variable called `commonTree`. What percentage (between 0 and 100) of all nests are in this tree species? Assign this percentage to a variable called `percentTree`.\n",
    "You can apply `table(x)` to count unique occurrences in a vector `x`. "
   ]
  },
  {
   "cell_type": "code",
   "execution_count": null,
   "metadata": {
    "deletable": false,
    "nbgrader": {
     "cell_type": "code",
     "checksum": "ff4be3f53825db6418f4879378b671b3",
     "grade": false,
     "grade_id": "cell-10abc1ce373b1e4c",
     "locked": false,
     "schema_version": 3,
     "solution": true,
     "task": false
    }
   },
   "outputs": [],
   "source": [
    "# your code here\n",
    "fail() # No Answer - remove if you provide an answer"
   ]
  },
  {
   "cell_type": "code",
   "execution_count": null,
   "metadata": {
    "deletable": false,
    "editable": false,
    "nbgrader": {
     "cell_type": "code",
     "checksum": "028daf6b99185b79d414bf03e92e134f",
     "grade": true,
     "grade_id": "cell-ab475b6fcd17f662",
     "locked": true,
     "points": 1,
     "schema_version": 3,
     "solution": false,
     "task": false
    }
   },
   "outputs": [],
   "source": [
    "test_that(\"The percentage of nests in the most common tree species should be assigned to `percentTree`\", {\n",
    "    expect_equal(digest(unname(percentTree)),'916925fd50b6c5aaeb0422b00c1d8b31')\n",
    "})"
   ]
  },
  {
   "cell_type": "markdown",
   "metadata": {
    "deletable": false,
    "editable": false,
    "nbgrader": {
     "cell_type": "markdown",
     "checksum": "d668b17a2bfa6c10168941a3ef6b45b8",
     "grade": false,
     "grade_id": "cell-715aef1ee94078b7",
     "locked": true,
     "schema_version": 3,
     "solution": false,
     "task": false
    }
   },
   "source": [
    "### (c) Now select out the rows within `df` that correspond to the most common tree species for owl nesting and include these in a new dataframe `df1`. Using `df1`, calculate the mean diameter at breast height (`DBH`) and its standard deviation. Assign these values respectively to `meanDBH` and `sdDBH`. Similarly obtain the mean tree height (`Ht`) and its standard deviation and assign these values to `meanHt` and `sdHt`. \n",
    "Hint: you can select a subset of a dataframe `df` where a vector `mask` contains `TRUE` using `df1 = subset(df,mask)`. The functions for the mean and standard deviation are `mean` and `sd`."
   ]
  },
  {
   "cell_type": "code",
   "execution_count": null,
   "metadata": {
    "deletable": false,
    "nbgrader": {
     "cell_type": "code",
     "checksum": "f58f779ba3804bf1fc2ea29fe6dd21b3",
     "grade": false,
     "grade_id": "cell-5a965573670c75c8",
     "locked": false,
     "schema_version": 3,
     "solution": true,
     "task": false
    }
   },
   "outputs": [],
   "source": [
    "# your code here\n",
    "fail() # No Answer - remove if you provide an answer"
   ]
  },
  {
   "cell_type": "code",
   "execution_count": null,
   "metadata": {
    "deletable": false,
    "editable": false,
    "nbgrader": {
     "cell_type": "code",
     "checksum": "8f0821aa3de1f6ee48402e1422552965",
     "grade": true,
     "grade_id": "cell-a769936089b96f1f",
     "locked": true,
     "points": 1,
     "schema_version": 3,
     "solution": false,
     "task": false
    }
   },
   "outputs": [],
   "source": [
    "test_that(\"Variables meanDBH, sdDBH, meanHt, and sdHt should be correctly computed.\", {\n",
    "    expect_equal(digest(meanDBH),'f5bbaa09f8a6b6b9d8b11894ebba78af')\n",
    "    expect_equal(digest(sdDBH), '053e6145fe82c986c8006286fc10d968')\n",
    "    expect_equal(digest(meanHt),'7b781b379b0cab3cc5868676258128e8')\n",
    "    expect_equal(digest(sdHt),'dbefb6980e223f3b2785ee7c2e4bde7a')\n",
    "})"
   ]
  },
  {
   "cell_type": "markdown",
   "metadata": {
    "deletable": false,
    "editable": false,
    "nbgrader": {
     "cell_type": "markdown",
     "checksum": "834565b42c8bab9ce9b68b3c4f35ae01",
     "grade": false,
     "grade_id": "cell-a3fc124641a84d1b",
     "locked": true,
     "schema_version": 3,
     "solution": false,
     "task": false
    }
   },
   "source": [
    "### (d) Calculate the coefficient of variation for both tree height and diameter for this most common tree species. Assign these to variables cvHt and cvDBH respectively. Are tree diameters or heights more variable among the samped nesting trees? Set `moreVary = 0` if diameters are more variable and `moreVary=1` if heights are more variable."
   ]
  },
  {
   "cell_type": "code",
   "execution_count": null,
   "metadata": {
    "deletable": false,
    "nbgrader": {
     "cell_type": "code",
     "checksum": "5faeef0e8d2ed11dd0ea36e811b87aeb",
     "grade": false,
     "grade_id": "cell-e4fb459fb5f29116",
     "locked": false,
     "schema_version": 3,
     "solution": true,
     "task": false
    }
   },
   "outputs": [],
   "source": [
    "# your code here\n",
    "fail() # No Answer - remove if you provide an answer"
   ]
  },
  {
   "cell_type": "code",
   "execution_count": null,
   "metadata": {
    "deletable": false,
    "editable": false,
    "nbgrader": {
     "cell_type": "code",
     "checksum": "232383899a2f1aaea465dc19750513f3",
     "grade": true,
     "grade_id": "cell-69ac99655352bafe",
     "locked": true,
     "points": 1,
     "schema_version": 3,
     "solution": false,
     "task": false
    }
   },
   "outputs": [],
   "source": [
    "test_that(\"Variables cvDBH, cvHt, and moreVary should be correctly computed.\", {\n",
    "    expect_equal(digest(cvDBH),'537e9e1ba3d370c6be72bd14a92c6b9a')\n",
    "    expect_equal(digest(cvHt), '0583809d757b2d3b1de966578765df4b')\n",
    "    expect_equal(digest(moreVary),'908d1fd10b357ed0ceaaec823abf81bc')\n",
    "})"
   ]
  },
  {
   "cell_type": "markdown",
   "metadata": {
    "deletable": false,
    "editable": false,
    "nbgrader": {
     "cell_type": "markdown",
     "checksum": "b201f4077e7a6eb31d86a4d28e2a9d99",
     "grade": false,
     "grade_id": "cell-0a82775a3e7455ba",
     "locked": true,
     "schema_version": 3,
     "solution": false,
     "task": false
    }
   },
   "source": [
    "#### (e) What is the most common stage of decay (`Stage`, indicated in the figure above) among trees which owls build nests in? Assign this answer (as an integer between 1 and 7) to the variable `commonStage`. \n",
    "You can again use `table` to count occurrences."
   ]
  },
  {
   "cell_type": "code",
   "execution_count": null,
   "metadata": {
    "deletable": false,
    "nbgrader": {
     "cell_type": "code",
     "checksum": "1ebb71f405ba0cb5fd46a119ac53798a",
     "grade": false,
     "grade_id": "cell-0a42d1bdeb2f98cf",
     "locked": false,
     "schema_version": 3,
     "solution": true,
     "task": false
    }
   },
   "outputs": [],
   "source": [
    "# your code here\n",
    "fail() # No Answer - remove if you provide an answer"
   ]
  },
  {
   "cell_type": "code",
   "execution_count": null,
   "metadata": {
    "deletable": false,
    "editable": false,
    "nbgrader": {
     "cell_type": "code",
     "checksum": "f344a22a1977da68950823f323ff6763",
     "grade": true,
     "grade_id": "cell-cb0b3ed703e0309c",
     "locked": true,
     "points": 1,
     "schema_version": 3,
     "solution": false,
     "task": false
    }
   },
   "outputs": [],
   "source": [
    "test_that(\"The most common tree stage for nesting trees should be named commonStage\", {\n",
    "    expect_equal(digest(commonStage),'db8e490a925a60e62212cefc7674ca02')\n",
    "})"
   ]
  },
  {
   "cell_type": "markdown",
   "metadata": {
    "deletable": false,
    "editable": false,
    "nbgrader": {
     "cell_type": "markdown",
     "checksum": "5fb088992c4700db58da6a5f3fa5b5a9",
     "grade": false,
     "grade_id": "cell-8a6c685aa04fdd25",
     "locked": true,
     "schema_version": 3,
     "solution": false,
     "task": false
    }
   },
   "source": [
    "### (f) Finally, what is the most common nest type? Options are `\"Platform\"`, `\"SideCavity\"`, and `\"TopCavity\"`. Assign the most common nest type to a variable called `commonNest`.  What percentage of all nests in the dataset are this nest type? Name this to a variable called `percentNest`."
   ]
  },
  {
   "cell_type": "code",
   "execution_count": null,
   "metadata": {
    "deletable": false,
    "nbgrader": {
     "cell_type": "code",
     "checksum": "c82af39683a161fee8a8ee3c5a0ffde3",
     "grade": false,
     "grade_id": "cell-b3aa7e3858bb170a",
     "locked": false,
     "schema_version": 3,
     "solution": true,
     "task": false
    }
   },
   "outputs": [],
   "source": [
    "# your code here\n",
    "fail() # No Answer - remove if you provide an answer"
   ]
  },
  {
   "cell_type": "code",
   "execution_count": null,
   "metadata": {
    "deletable": false,
    "editable": false,
    "nbgrader": {
     "cell_type": "code",
     "checksum": "3f07ba3e347fb9ad5ef13b02dc52cdfe",
     "grade": true,
     "grade_id": "cell-49823111e9653b1a",
     "locked": true,
     "points": 1,
     "schema_version": 3,
     "solution": false,
     "task": false
    }
   },
   "outputs": [],
   "source": [
    "test_that(\"The most common nest type is identified properly\", {\n",
    "    expect_equal(digest(commonNest),'65bf880f72932460d6dab31f857deacf')\n",
    "})\n",
    "test_that(\"The percent of all nests of this type is calculated correctly\", {\n",
    "    expect_equal(digest(unname(percentNest)),'b50efca909c244fe8644d1e93406ecdb')\n",
    "})"
   ]
  },
  {
   "cell_type": "markdown",
   "metadata": {
    "deletable": false,
    "editable": false,
    "nbgrader": {
     "cell_type": "markdown",
     "checksum": "6b1a99c1bc3d21d12b6635a7e4c7841b",
     "grade": false,
     "grade_id": "cell-202deac94438346f",
     "locked": true,
     "schema_version": 3,
     "solution": false,
     "task": false
    }
   },
   "source": [
    "## (g) Summarize the results of your descriptive statistics. What species of trees do owls prefer to nest in? What life stage are these trees in? What types of nests do owls most commonly build in these trees?"
   ]
  },
  {
   "cell_type": "markdown",
   "metadata": {
    "deletable": false,
    "nbgrader": {
     "cell_type": "markdown",
     "checksum": "e269d6b0d63e55f6ca87a9b6d70192fa",
     "grade": true,
     "grade_id": "cell-60e1eb400a09cc1a",
     "locked": false,
     "points": 0,
     "schema_version": 3,
     "solution": true,
     "task": false
    }
   },
   "source": [
    "YOUR ANSWER HERE"
   ]
  },
  {
   "cell_type": "markdown",
   "metadata": {
    "deletable": false,
    "editable": false,
    "nbgrader": {
     "cell_type": "markdown",
     "checksum": "1cb0d53e74f210494fa57f9a99b1cbbb",
     "grade": false,
     "grade_id": "cell-738959bea70071d1",
     "locked": true,
     "schema_version": 3,
     "solution": false,
     "task": false
    }
   },
   "source": [
    "## 2. Now we will investigate whether the diameter and height of nesting trees affects the types of nests owls make in them using analysis of variance (ANOVA).\n",
    "\n",
    "#### a) For the most common nesting tree species (`Tree`) and life stage (`Stage`), form a boxplot showing the tree diameter on the y axis versus the nest type on the x axis. Label your axes with units as appropriate. Add a plot title.\n",
    "You can extract the appropriate data from `df` with the `subset` function and `mask = (df$Stage==commonStage) & (df$Tree==commonTree)`.\n",
    "You can use `boxplot(y ~ x, data=yourDataFrame, main='a title for your plot', xlab='your x axis label', ylab='your y axis label')` with appropriate substitutions."
   ]
  },
  {
   "cell_type": "code",
   "execution_count": null,
   "metadata": {
    "deletable": false,
    "nbgrader": {
     "cell_type": "code",
     "checksum": "ee2ae910d7ff8f7dded7a274c587ff1c",
     "grade": true,
     "grade_id": "cell-39458be2fed50718",
     "locked": false,
     "points": 2,
     "schema_version": 3,
     "solution": true,
     "task": false
    }
   },
   "outputs": [],
   "source": [
    "# your code here\n",
    "fail() # No Answer - remove if you provide an answer"
   ]
  },
  {
   "cell_type": "markdown",
   "metadata": {
    "deletable": false,
    "editable": false,
    "nbgrader": {
     "cell_type": "markdown",
     "checksum": "457716e961808ef2ff4e8859f1fb4b94",
     "grade": false,
     "grade_id": "cell-ad6ecb34da0a140a",
     "locked": true,
     "schema_version": 3,
     "solution": false,
     "task": false
    }
   },
   "source": [
    "### b) Now we will investigate whether the mean diameters of nesting trees differs according to Nest Type using ANOVA. Does the data indicated in your boxplot meet the requirements of ANOVA? Explain this, then write the null and alternate hypotheses for Anova, being careful to define all variables.\n",
    "You can render equations in markdown by surrounding them by either single or double dollar signs, as in `$ F = m a $`. Double dollar signs give equations their own line. Single dollar signs make them inline with text. You can write a Greek $\\mu$ (\"mu\") with a subscript (i.e., $\\mu_1$) as `\\mu_1`. This method of writing math is called [MathJax](https://math.meta.stackexchange.com/questions/5020/mathjax-basic-tutorial-and-quick-reference). Use MathJax to render your Null and Alternate hypotheses.\n"
   ]
  },
  {
   "cell_type": "markdown",
   "metadata": {
    "deletable": false,
    "nbgrader": {
     "cell_type": "markdown",
     "checksum": "ce0d91b7c629e8f37afb0a28d0c5063a",
     "grade": true,
     "grade_id": "cell-22da802c6c7fb910",
     "locked": false,
     "points": 2,
     "schema_version": 3,
     "solution": true,
     "task": false
    }
   },
   "source": [
    "YOUR ANSWER HERE"
   ]
  },
  {
   "cell_type": "markdown",
   "metadata": {
    "deletable": false,
    "editable": false,
    "nbgrader": {
     "cell_type": "markdown",
     "checksum": "0abf96d181b12b7ab9037ea74230a078",
     "grade": false,
     "grade_id": "cell-0f1b59d1079d5cb0",
     "locked": true,
     "schema_version": 3,
     "solution": false,
     "task": false
    }
   },
   "source": [
    "### c) Now conduct ANOVA on the data in your boxplot to determine if you can reject the null hypothesis. Conduct the calculation and print the summary.\n",
    "The function for ANOVA is `aov`. It operates as `A = aov(y~x,data=dataset)` with approprate subsitutions. As written here the ANOVA results are stored in `A`. You can summarize the results with `summary(A)`."
   ]
  },
  {
   "cell_type": "code",
   "execution_count": null,
   "metadata": {
    "deletable": false,
    "nbgrader": {
     "cell_type": "code",
     "checksum": "603dfb4dd349c791c1467d80ef699575",
     "grade": true,
     "grade_id": "cell-bf03b03bc4968193",
     "locked": false,
     "points": 2,
     "schema_version": 3,
     "solution": true,
     "task": false
    }
   },
   "outputs": [],
   "source": [
    "# your code here\n",
    "fail() # No Answer - remove if you provide an answer"
   ]
  },
  {
   "cell_type": "markdown",
   "metadata": {
    "deletable": false,
    "editable": false,
    "nbgrader": {
     "cell_type": "markdown",
     "checksum": "c1914ddefd20a1d66aff32d18a571a43",
     "grade": false,
     "grade_id": "cell-b233675de305aa39",
     "locked": true,
     "schema_version": 3,
     "solution": false,
     "task": false
    }
   },
   "source": [
    "### d) Summarize the results of the ANOVA in several sentences. Do you accept or reject the null hypothesis at $\\alpha=0.05$? What numerical values in the ANOVA summary lead you to this choice? What does this imply for the control of tree diameters on the nest types owls construct?"
   ]
  },
  {
   "cell_type": "markdown",
   "metadata": {
    "deletable": false,
    "nbgrader": {
     "cell_type": "markdown",
     "checksum": "4d0eb0509f378f4cf556cc29382fd36c",
     "grade": true,
     "grade_id": "cell-f4d5b50d00b547b2",
     "locked": false,
     "points": 2,
     "schema_version": 3,
     "solution": true,
     "task": false
    }
   },
   "source": [
    "YOUR ANSWER HERE"
   ]
  },
  {
   "cell_type": "markdown",
   "metadata": {
    "deletable": false,
    "editable": false,
    "nbgrader": {
     "cell_type": "markdown",
     "checksum": "e757d6bff60b40c4eab486921a12a4f2",
     "grade": false,
     "grade_id": "cell-473e9c604edd6745",
     "locked": true,
     "schema_version": 3,
     "solution": false,
     "task": false
    }
   },
   "source": [
    "### e) Now conduct a post-hoc Tukey test on the ANOVA output. Obtain the Tukey results in a code cell, then interpret and summarize these results in a markdown cell, making specific reference to the relevant numerical values in the Tukey output.\n",
    "Use the `TukeyHSD` function on the earlier ANOVA output."
   ]
  },
  {
   "cell_type": "code",
   "execution_count": null,
   "metadata": {
    "deletable": false,
    "nbgrader": {
     "cell_type": "code",
     "checksum": "f63609f70157c135a33ae6402aa5f8f4",
     "grade": true,
     "grade_id": "cell-dffcfadf1d937400",
     "locked": false,
     "points": 1,
     "schema_version": 3,
     "solution": true,
     "task": false
    }
   },
   "outputs": [],
   "source": [
    "# your code here\n",
    "fail() # No Answer - remove if you provide an answer"
   ]
  },
  {
   "cell_type": "markdown",
   "metadata": {
    "deletable": false,
    "nbgrader": {
     "cell_type": "markdown",
     "checksum": "ef4a3cf65f36fcf499bc68e2234d0474",
     "grade": true,
     "grade_id": "cell-08ebc0681aece945",
     "locked": false,
     "points": 1,
     "schema_version": 3,
     "solution": true,
     "task": false
    }
   },
   "source": [
    "YOUR ANSWER HERE"
   ]
  },
  {
   "cell_type": "markdown",
   "metadata": {
    "deletable": false,
    "editable": false,
    "nbgrader": {
     "cell_type": "markdown",
     "checksum": "09c5bd28c2f15e92544ef40fe2d89d93",
     "grade": false,
     "grade_id": "cell-21215a7af6bebc90",
     "locked": true,
     "schema_version": 3,
     "solution": false,
     "task": false
    }
   },
   "source": [
    "### f) Now conduct ANOVA to determine if nest type (`Nest`) is related to tree height (`Ht`) for the most common nesting tree species and life stage (the `df2` dataframe). Perform the calculation in one code cell and summarize the results in another markdown cell, making reference to the appropriate numerical values. Use $\\alpha=0.05$."
   ]
  },
  {
   "cell_type": "code",
   "execution_count": null,
   "metadata": {
    "deletable": false,
    "nbgrader": {
     "cell_type": "code",
     "checksum": "65633a17449dd478a2d76f30ec59b762",
     "grade": true,
     "grade_id": "cell-08e2995e94277847",
     "locked": false,
     "points": 1,
     "schema_version": 3,
     "solution": true,
     "task": false
    }
   },
   "outputs": [],
   "source": [
    "# your code here\n",
    "fail() # No Answer - remove if you provide an answer"
   ]
  },
  {
   "cell_type": "markdown",
   "metadata": {
    "deletable": false,
    "nbgrader": {
     "cell_type": "markdown",
     "checksum": "97beeb9c2f58f912b36e90d478394a51",
     "grade": true,
     "grade_id": "cell-c4eee1e9e9be1d30",
     "locked": false,
     "points": 1,
     "schema_version": 3,
     "solution": true,
     "task": false
    }
   },
   "source": [
    "YOUR ANSWER HERE"
   ]
  },
  {
   "cell_type": "markdown",
   "metadata": {
    "deletable": false,
    "editable": false,
    "nbgrader": {
     "cell_type": "markdown",
     "checksum": "f91ec58742739e6bcbf6919b8ffcfcce",
     "grade": false,
     "grade_id": "cell-2964e6b4ac9b4e9a",
     "locked": true,
     "schema_version": 3,
     "solution": false,
     "task": false
    }
   },
   "source": [
    "## g) In 2-3 sentences, summarize your findings with regard to (i) tree characteristics Northern Spotted owls select for nesting, (ii) the types of nests these owls most commonly build in these trees, and (iii) how ANOVA informs the control of tree height and diameter on the types of nests owls construct."
   ]
  },
  {
   "cell_type": "markdown",
   "metadata": {
    "deletable": false,
    "nbgrader": {
     "cell_type": "markdown",
     "checksum": "78e465b7843a4646097a52aa32a245c5",
     "grade": true,
     "grade_id": "cell-472da30e32f2d72e",
     "locked": false,
     "points": 1,
     "schema_version": 3,
     "solution": true,
     "task": false
    }
   },
   "source": [
    "YOUR ANSWER HERE"
   ]
  }
 ],
 "metadata": {
  "kernelspec": {
   "display_name": "R",
   "language": "R",
   "name": "ir"
  },
  "language_info": {
   "codemirror_mode": "r",
   "file_extension": ".r",
   "mimetype": "text/x-r-source",
   "name": "R",
   "pygments_lexer": "r",
   "version": "4.0.5"
  }
 },
 "nbformat": 4,
 "nbformat_minor": 4
}
